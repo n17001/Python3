{
  "nbformat": 4,
  "nbformat_minor": 0,
  "metadata": {
    "colab": {
      "name": "掛け算表クラス",
      "version": "0.3.2",
      "provenance": [],
      "collapsed_sections": [],
      "include_colab_link": true
    },
    "kernelspec": {
      "name": "python3",
      "display_name": "Python 3"
    },
    "accelerator": "GPU"
  },
  "cells": [
    {
      "cell_type": "markdown",
      "metadata": {
        "id": "view-in-github",
        "colab_type": "text"
      },
      "source": [
        "<a href=\"https://colab.research.google.com/github/n17001/Python3/blob/master/%E6%8E%9B%E3%81%91%E7%AE%97%E8%A1%A8%E3%82%AF%E3%83%A9%E3%82%B9.ipynb\" target=\"_parent\"><img src=\"https://colab.research.google.com/assets/colab-badge.svg\" alt=\"Open In Colab\"/></a>"
      ]
    },
    {
      "metadata": {
        "id": "Gmg8OVTZ4UHQ",
        "colab_type": "code",
        "colab": {}
      },
      "cell_type": "code",
      "source": [
        "def kuku(x,y):\n",
        "  max=x*y\n",
        "  space=' '\n",
        "  for y in range(1,y+1):\n",
        "    for x in range(1,x+1):\n",
        "      ans=x*y\n",
        "      print('{}{}'.format((len(str(max))+1-len(str(ans)))*space,ans),end='')\n",
        "    print()"
      ],
      "execution_count": 0,
      "outputs": []
    }
  ]
}